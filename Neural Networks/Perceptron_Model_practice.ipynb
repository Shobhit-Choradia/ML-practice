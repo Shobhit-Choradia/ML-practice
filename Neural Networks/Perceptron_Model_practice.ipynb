{
  "cells": [
    {
      "cell_type": "code",
      "execution_count": null,
      "metadata": {
        "id": "IXDK7zza5xNa"
      },
      "outputs": [],
      "source": [
        "import numpy as np\n",
        "import pandas as pd\n",
        "import matplotlib.pyplot as plt\n",
        "import seaborn as sns\n",
        "from sklearn.model_selection import train_test_split\n",
        "import torch\n",
        "import torch.nn as nn\n",
        "import torch.optim as optim"
      ]
    },
    {
      "cell_type": "markdown",
      "metadata": {
        "id": "kb5ul0C6ymri"
      },
      "source": [
        "# Part 1 : Perceptron Model"
      ]
    },
    {
      "cell_type": "code",
      "execution_count": null,
      "metadata": {
        "id": "FGXhcbYA7Chl"
      },
      "outputs": [],
      "source": [
        "and_data = pd.DataFrame (\n",
        "    {\n",
        "        'x1' : [0,0,1,1],\n",
        "        'x2' : [0,1,0,1],\n",
        "        'y' : [0,0,0,1]\n",
        "    }\n",
        ")\n",
        "\n",
        "or_data = pd.DataFrame (\n",
        "    {\n",
        "        'x1' : [0,0,1,1],\n",
        "        'x2' : [0,1,0,1],\n",
        "        'y' : [0,1,1,1]\n",
        "    }\n",
        ")\n",
        "\n",
        "nor_data = pd.DataFrame (\n",
        "    {\n",
        "        'x1' : [0,0,1,1],\n",
        "        'x2' : [0,1,0,1],\n",
        "        'y' : [1,0,0,0]\n",
        "    }\n",
        ")"
      ]
    },
    {
      "cell_type": "code",
      "execution_count": null,
      "metadata": {
        "id": "i5xPakga8XOm"
      },
      "outputs": [],
      "source": [
        "def step_function (x) :\n",
        "    return torch.where(x >= 0, torch.tensor(1.0), torch.tensor(0.0))\n",
        "\n",
        "class NeuralNetwork (nn.Module) :\n",
        "    def __init__ (self) :\n",
        "        super (NeuralNetwork, self).__init__()\n",
        "        self.layer1 = nn.Linear (2, 1)\n",
        "\n",
        "    def forward (self, x) :\n",
        "        x = self.layer1 (x)\n",
        "        x = step_function (x)\n",
        "        return x"
      ]
    },
    {
      "cell_type": "code",
      "execution_count": null,
      "metadata": {
        "colab": {
          "base_uri": "https://localhost:8080/"
        },
        "id": "sMMxMIGaCtTu",
        "outputId": "1bb8b2dc-30ac-4e75-bf93-3e765b82cca4"
      },
      "outputs": [
        {
          "name": "stdout",
          "output_type": "stream",
          "text": [
            "Epoch 1/10, Loss: 3.0\n",
            "Epoch 2/10, Loss: 3.0\n",
            "Epoch 3/10, Loss: 2.0\n",
            "Epoch 4/10, Loss: 2.0\n",
            "Epoch 5/10, Loss: 2.0\n",
            "Epoch 6/10, Loss: 1.0\n",
            "Epoch 7/10, Loss: 0.0\n",
            "Epoch 8/10, Loss: 0.0\n",
            "Epoch 9/10, Loss: 0.0\n",
            "Epoch 10/10, Loss: 0.0\n",
            "\n",
            "Predictions:\n",
            "Input: [0.0, 0.0] -> Output: 0\n",
            "Input: [0.0, 1.0] -> Output: 0\n",
            "Input: [1.0, 0.0] -> Output: 0\n",
            "Input: [1.0, 1.0] -> Output: 1\n"
          ]
        }
      ],
      "source": [
        "model = NeuralNetwork()\n",
        "\n",
        "inputs = torch.tensor(and_data[['x1', 'x2']].values, dtype=torch.float32)\n",
        "labels = torch.tensor(and_data['y'].values.reshape(-1,1), dtype=torch.float32)\n",
        "\n",
        "learning_rate = 0.1\n",
        "epochs = 10\n",
        "\n",
        "for epoch in range(epochs):\n",
        "    total_loss = 0\n",
        "    for x, y in zip(inputs, labels):\n",
        "        output = model(x)\n",
        "        error = y - output\n",
        "        total_loss += error.abs().item()\n",
        "\n",
        "        with torch.no_grad():\n",
        "            model.layer1.weight += learning_rate * error * x\n",
        "            model.layer1.bias += learning_rate * error\n",
        "\n",
        "    print(f\"Epoch {epoch+1}/{epochs}, Loss: {total_loss}\")\n",
        "\n",
        "print(\"\\nPredictions:\")\n",
        "for x in inputs:\n",
        "    output = model(x)\n",
        "    print(f\"Input: {x.tolist()} -> Output: {int(output.item())}\")"
      ]
    },
    {
      "cell_type": "code",
      "execution_count": null,
      "metadata": {
        "id": "qTJ9ksUUQAZd"
      },
      "outputs": [],
      "source": [
        "plt.plot()"
      ]
    },
    {
      "cell_type": "code",
      "execution_count": null,
      "metadata": {
        "colab": {
          "base_uri": "https://localhost:8080/"
        },
        "id": "ClEEYsktH6ON",
        "outputId": "f33eab81-b883-41e9-ed69-799ceb4e1819"
      },
      "outputs": [
        {
          "name": "stdout",
          "output_type": "stream",
          "text": [
            "Epoch 1/10, Loss: 1.0\n",
            "Epoch 2/10, Loss: 1.0\n",
            "Epoch 3/10, Loss: 1.0\n",
            "Epoch 4/10, Loss: 1.0\n",
            "Epoch 5/10, Loss: 1.0\n",
            "Epoch 6/10, Loss: 1.0\n",
            "Epoch 7/10, Loss: 1.0\n",
            "Epoch 8/10, Loss: 0.0\n",
            "Epoch 9/10, Loss: 0.0\n",
            "Epoch 10/10, Loss: 0.0\n",
            "\n",
            "Predictions:\n",
            "Input: [0.0, 0.0] -> Output: 0\n",
            "Input: [0.0, 1.0] -> Output: 1\n",
            "Input: [1.0, 0.0] -> Output: 1\n",
            "Input: [1.0, 1.0] -> Output: 1\n"
          ]
        }
      ],
      "source": [
        "model = NeuralNetwork()\n",
        "\n",
        "inputs = torch.tensor(or_data[['x1', 'x2']].values, dtype=torch.float32)\n",
        "labels = torch.tensor(or_data['y'].values.reshape(-1,1), dtype=torch.float32)\n",
        "\n",
        "learning_rate = 0.1\n",
        "epochs = 10\n",
        "\n",
        "for epoch in range(epochs):\n",
        "    total_loss = 0\n",
        "    for x, y in zip(inputs, labels):\n",
        "        output = model(x)\n",
        "        error = y - output\n",
        "        total_loss += error.abs().item()\n",
        "\n",
        "        with torch.no_grad():\n",
        "            model.layer1.weight += learning_rate * error * x\n",
        "            model.layer1.bias += learning_rate * error\n",
        "\n",
        "    print(f\"Epoch {epoch+1}/{epochs}, Loss: {total_loss}\")\n",
        "\n",
        "print(\"\\nPredictions:\")\n",
        "for x in inputs:\n",
        "    output = model(x)\n",
        "    print(f\"Input: {x.tolist()} -> Output: {int(output.item())}\")"
      ]
    },
    {
      "cell_type": "code",
      "execution_count": null,
      "metadata": {
        "colab": {
          "base_uri": "https://localhost:8080/"
        },
        "id": "eE6kk6wDJAhF",
        "outputId": "fa1f0c4f-9a39-4649-8782-c56e10223da3"
      },
      "outputs": [
        {
          "name": "stdout",
          "output_type": "stream",
          "text": [
            "Epoch 1/10, Loss: 3.0\n",
            "Epoch 2/10, Loss: 3.0\n",
            "Epoch 3/10, Loss: 2.0\n",
            "Epoch 4/10, Loss: 1.0\n",
            "Epoch 5/10, Loss: 0.0\n",
            "Epoch 6/10, Loss: 0.0\n",
            "Epoch 7/10, Loss: 0.0\n",
            "Epoch 8/10, Loss: 0.0\n",
            "Epoch 9/10, Loss: 0.0\n",
            "Epoch 10/10, Loss: 0.0\n",
            "\n",
            "Predictions:\n",
            "Input: [0.0, 0.0] -> Output: 1\n",
            "Input: [0.0, 1.0] -> Output: 0\n",
            "Input: [1.0, 0.0] -> Output: 0\n",
            "Input: [1.0, 1.0] -> Output: 0\n"
          ]
        }
      ],
      "source": [
        "model = NeuralNetwork()\n",
        "\n",
        "inputs = torch.tensor(nor_data[['x1', 'x2']].values, dtype=torch.float32)\n",
        "labels = torch.tensor(nor_data['y'].values.reshape(-1,1), dtype=torch.float32)\n",
        "\n",
        "learning_rate = 0.1\n",
        "epochs = 10\n",
        "\n",
        "for epoch in range(epochs):\n",
        "    total_loss = 0\n",
        "    for x, y in zip(inputs, labels):\n",
        "        output = model(x)\n",
        "        error = y - output\n",
        "        total_loss += error.abs().item()\n",
        "\n",
        "        with torch.no_grad():\n",
        "            model.layer1.weight += learning_rate * error * x\n",
        "            model.layer1.bias += learning_rate * error\n",
        "\n",
        "    print(f\"Epoch {epoch+1}/{epochs}, Loss: {total_loss}\")\n",
        "\n",
        "print(\"\\nPredictions:\")\n",
        "for x in inputs:\n",
        "    output = model(x)\n",
        "    print(f\"Input: {x.tolist()} -> Output: {int(output.item())}\")"
      ]
    },
    {
      "cell_type": "code",
      "execution_count": null,
      "metadata": {
        "colab": {
          "base_uri": "https://localhost:8080/"
        },
        "id": "e6df9bcc",
        "outputId": "955b2ca8-ef2d-4c14-8552-3c6c6e7c2ccf"
      },
      "outputs": [
        {
          "name": "stdout",
          "output_type": "stream",
          "text": [
            "Predictions using scikit-learn Perceptron:\n",
            "Input: [0, 0] -> Output: 0\n",
            "Input: [0, 1] -> Output: 0\n",
            "Input: [1, 0] -> Output: 0\n",
            "Input: [1, 1] -> Output: 1\n"
          ]
        },
        {
          "name": "stderr",
          "output_type": "stream",
          "text": [
            "/usr/local/lib/python3.12/dist-packages/sklearn/linear_model/_stochastic_gradient.py:738: ConvergenceWarning: Maximum number of iteration reached before convergence. Consider increasing max_iter to improve the fit.\n",
            "  warnings.warn(\n"
          ]
        }
      ],
      "source": [
        "from sklearn.linear_model import Perceptron\n",
        "\n",
        "\n",
        "X = and_data[['x1', 'x2']].values\n",
        "y = and_data['y'].values\n",
        "\n",
        "model_sklearn = Perceptron(random_state=0, max_iter=10, tol=1e-3)\n",
        "model_sklearn.fit(X, y)\n",
        "\n",
        "predictions_sklearn = model_sklearn.predict(X)\n",
        "\n",
        "print(\"Predictions using scikit-learn Perceptron:\")\n",
        "for input_data, prediction in zip(X, predictions_sklearn):\n",
        "    print(f\"Input: {input_data.tolist()} -> Output: {prediction}\")"
      ]
    },
    {
      "cell_type": "markdown",
      "metadata": {
        "id": "GxkPK88zyj6t"
      },
      "source": [
        "# Part 2 : Back Propagation"
      ]
    },
    {
      "cell_type": "markdown",
      "metadata": {},
      "source": []
    },
    {
      "cell_type": "code",
      "execution_count": null,
      "metadata": {
        "id": "iKFHSKcNyuu8"
      },
      "outputs": [],
      "source": [
        "class NeuralNetwork (nn.Module) :\n",
        "    def __init__ (self) :\n",
        "        super (NeuralNetwork, self).__init__()\n",
        "        self.layer1 = nn.Linear (2, 2)\n",
        "        self.layer2 = nn.Linear (2, 2)\n",
        "        self.sigmoid = nn.Sigmoid()\n",
        "\n",
        "    def forward (self, x) :\n",
        "        x = self.layer1 (x)\n",
        "        x = self.sigmoid (x)\n",
        "        x = self.layer2 (x)\n",
        "        x = self.sigmoid (x)\n",
        "        return x"
      ]
    },
    {
      "cell_type": "code",
      "execution_count": null,
      "metadata": {
        "id": "b4xP0QCH0qgK"
      },
      "outputs": [],
      "source": [
        "inputs = torch.tensor([0.05, 0.1])\n",
        "labels = torch.tensor([0.01, 0.99])\n",
        "\n",
        "model = NeuralNetwork()\n",
        "\n",
        "with torch.no_grad():\n",
        "          model.layer1.weight.copy_(torch.tensor([[0.15, 0.20],\n",
        "                                                  [0.25, 0.30]]))\n",
        "          model.layer1.bias.copy_(torch.tensor([0.35, 0.35]))\n",
        "\n",
        "          model.layer2.weight.copy_(torch.tensor([[0.40, 0.45],\n",
        "                                                  [0.50, 0.55]]))\n",
        "          model.layer2.bias.copy_(torch.tensor([0.60, 0.60]))"
      ]
    },
    {
      "cell_type": "code",
      "execution_count": null,
      "metadata": {
        "colab": {
          "base_uri": "https://localhost:8080/"
        },
        "id": "fY_gZPKY4cGR",
        "outputId": "411f128f-6e17-4aa8-e486-e8135c5cb94c"
      },
      "outputs": [
        {
          "name": "stdout",
          "output_type": "stream",
          "text": [
            "Epoch: [1000/10000], Output:tensor([0.0298, 0.9710]), Loss: 0.000376\n",
            "Epoch: [2000/10000], Output:tensor([0.0246, 0.9759]), Loss: 0.000206\n",
            "Epoch: [3000/10000], Output:tensor([0.0216, 0.9787]), Loss: 0.000131\n",
            "Epoch: [4000/10000], Output:tensor([0.0196, 0.9806]), Loss: 0.000091\n",
            "Epoch: [5000/10000], Output:tensor([0.0182, 0.9820]), Loss: 0.000066\n",
            "Epoch: [6000/10000], Output:tensor([0.0172, 0.9830]), Loss: 0.000050\n",
            "Epoch: [7000/10000], Output:tensor([0.0163, 0.9838]), Loss: 0.000039\n",
            "Epoch: [8000/10000], Output:tensor([0.0156, 0.9845]), Loss: 0.000031\n",
            "Epoch: [9000/10000], Output:tensor([0.0151, 0.9851]), Loss: 0.000025\n",
            "Epoch: [10000/10000], Output:tensor([0.0146, 0.9855]), Loss: 0.000020\n"
          ]
        }
      ],
      "source": [
        "model.train()\n",
        "\n",
        "criterion = nn.MSELoss()\n",
        "optimizer = torch.optim.SGD(model.parameters(), lr=0.2)\n",
        "\n",
        "num_epochs = 10000\n",
        "for epoch in range(num_epochs):\n",
        "\n",
        "    outputs = model(inputs)\n",
        "    loss = criterion(outputs, labels)\n",
        "\n",
        "    optimizer.zero_grad()\n",
        "    loss.backward()\n",
        "    optimizer.step()\n",
        "    if (epoch+1) % 1000 == 0:\n",
        "        print(f'Epoch: [{epoch+1}/{num_epochs}], Output:{outputs.detach()}, Loss: {loss.item():.6f}')"
      ]
    },
    {
      "cell_type": "code",
      "execution_count": null,
      "metadata": {
        "colab": {
          "base_uri": "https://localhost:8080/"
        },
        "id": "402tAY0T7k91",
        "outputId": "e2ea61bd-e179-4ee2-9736-f9475173509b"
      },
      "outputs": [
        {
          "name": "stdout",
          "output_type": "stream",
          "text": [
            "Final Weights : \n",
            "Parameter containing:\n",
            "tensor([[0.1799, 0.2598],\n",
            "        [0.2792, 0.3583]], requires_grad=True)\n",
            "Parameter containing:\n",
            "tensor([0.9477, 0.9331], requires_grad=True)\n",
            "Parameter containing:\n",
            "tensor([[-1.3792, -1.3324],\n",
            "        [ 1.4530,  1.5039]], requires_grad=True)\n",
            "Parameter containing:\n",
            "tensor([-2.2410,  2.0704], requires_grad=True)\n"
          ]
        }
      ],
      "source": [
        "print(\"Final Weights : \")\n",
        "print(model.layer1.weight)\n",
        "print(model.layer1.bias)\n",
        "print(model.layer2.weight)\n",
        "print(model.layer2.bias)"
      ]
    }
  ],
  "metadata": {
    "colab": {
      "provenance": []
    },
    "kernelspec": {
      "display_name": "Python 3",
      "name": "python3"
    },
    "language_info": {
      "name": "python"
    }
  },
  "nbformat": 4,
  "nbformat_minor": 0
}
